{
  "nbformat": 4,
  "nbformat_minor": 0,
  "metadata": {
    "colab": {
      "provenance": []
    },
    "kernelspec": {
      "name": "python3",
      "display_name": "Python 3"
    },
    "language_info": {
      "name": "python"
    }
  },
  "cells": [
    {
      "cell_type": "markdown",
      "source": [
        "# **TASK-2**"
      ],
      "metadata": {
        "id": "VzGXUUtimyYL"
      }
    },
    {
      "cell_type": "code",
      "execution_count": null,
      "metadata": {
        "id": "3f-pY6anmn71"
      },
      "outputs": [],
      "source": [
        "import pandas as pd\n",
        "import numpy as np\n",
        "from scipy.stats import zscore\n",
        "from scipy.stats import norm"
      ]
    },
    {
      "cell_type": "code",
      "source": [
        "train_data = pd.read_csv('/content/train.csv')\n",
        "test_data = pd.read_csv('/content/test.csv')"
      ],
      "metadata": {
        "id": "N7sicNspnBI0"
      },
      "execution_count": null,
      "outputs": []
    },
    {
      "cell_type": "code",
      "source": [
        "combined_data = pd.concat([train_data, test_data], ignore_index=True)"
      ],
      "metadata": {
        "id": "HZWvBBG4nQ6L"
      },
      "execution_count": null,
      "outputs": []
    },
    {
      "cell_type": "markdown",
      "source": [
        "MEAN"
      ],
      "metadata": {
        "id": "5Zsc-XBInwDg"
      }
    },
    {
      "cell_type": "code",
      "source": [
        "mean_values = combined_data.mean()"
      ],
      "metadata": {
        "colab": {
          "base_uri": "https://localhost:8080/"
        },
        "id": "WaPVytjfnULh",
        "outputId": "065e9db5-2b3c-4b71-9a87-301721817003"
      },
      "execution_count": null,
      "outputs": [
        {
          "output_type": "stream",
          "name": "stderr",
          "text": [
            "<ipython-input-4-6967f55c7f69>:1: FutureWarning: The default value of numeric_only in DataFrame.mean is deprecated. In a future version, it will default to False. In addition, specifying 'numeric_only=None' is deprecated. Select only valid columns or specify the value of numeric_only to silence this warning.\n",
            "  mean_values = combined_data.mean()\n"
          ]
        }
      ]
    },
    {
      "cell_type": "code",
      "source": [
        "print(mean_values)"
      ],
      "metadata": {
        "colab": {
          "base_uri": "https://localhost:8080/"
        },
        "id": "SQwMXYTtnfwy",
        "outputId": "d41c0ab3-8134-4a2e-e29b-82b8b5fb2d41"
      },
      "execution_count": null,
      "outputs": [
        {
          "output_type": "stream",
          "name": "stdout",
          "text": [
            "PassengerId    655.000000\n",
            "Survived         0.383838\n",
            "Pclass           2.294882\n",
            "Age             29.881138\n",
            "SibSp            0.498854\n",
            "Parch            0.385027\n",
            "Fare            33.295479\n",
            "dtype: float64\n"
          ]
        }
      ]
    },
    {
      "cell_type": "markdown",
      "source": [
        "MEDIAN"
      ],
      "metadata": {
        "id": "1yOrvAKynyUT"
      }
    },
    {
      "cell_type": "code",
      "source": [
        "median_values = combined_data.median()"
      ],
      "metadata": {
        "colab": {
          "base_uri": "https://localhost:8080/"
        },
        "id": "bkvQkIaznZEA",
        "outputId": "fd373ada-ca63-43c5-c14f-e1d28bd87984"
      },
      "execution_count": null,
      "outputs": [
        {
          "output_type": "stream",
          "name": "stderr",
          "text": [
            "<ipython-input-5-a640099dc929>:1: FutureWarning: The default value of numeric_only in DataFrame.median is deprecated. In a future version, it will default to False. In addition, specifying 'numeric_only=None' is deprecated. Select only valid columns or specify the value of numeric_only to silence this warning.\n",
            "  median_values = combined_data.median()\n"
          ]
        }
      ]
    },
    {
      "cell_type": "code",
      "source": [
        "print(median_values)"
      ],
      "metadata": {
        "colab": {
          "base_uri": "https://localhost:8080/"
        },
        "id": "FGCvFMb0nb0t",
        "outputId": "81553a3c-7797-4b7c-98e0-b32819bdcd02"
      },
      "execution_count": null,
      "outputs": [
        {
          "output_type": "stream",
          "name": "stdout",
          "text": [
            "PassengerId    655.0000\n",
            "Survived         0.0000\n",
            "Pclass           3.0000\n",
            "Age             28.0000\n",
            "SibSp            0.0000\n",
            "Parch            0.0000\n",
            "Fare            14.4542\n",
            "dtype: float64\n"
          ]
        }
      ]
    },
    {
      "cell_type": "markdown",
      "source": [
        "MODE"
      ],
      "metadata": {
        "id": "iJOAUeZkn0qz"
      }
    },
    {
      "cell_type": "code",
      "source": [
        "mode_values = combined_data.mode().iloc[0]"
      ],
      "metadata": {
        "id": "EPKEjqqCnkXL"
      },
      "execution_count": null,
      "outputs": []
    },
    {
      "cell_type": "code",
      "source": [
        "print(mode_values)"
      ],
      "metadata": {
        "colab": {
          "base_uri": "https://localhost:8080/"
        },
        "id": "ykIoLDXEnm1W",
        "outputId": "53f4013f-628f-4ad6-9a3e-d9fe822c6f84"
      },
      "execution_count": null,
      "outputs": [
        {
          "output_type": "stream",
          "name": "stdout",
          "text": [
            "PassengerId                       1\n",
            "Survived                        0.0\n",
            "Pclass                          3.0\n",
            "Name           Connolly, Miss. Kate\n",
            "Sex                            male\n",
            "Age                            24.0\n",
            "SibSp                           0.0\n",
            "Parch                           0.0\n",
            "Ticket                     CA. 2343\n",
            "Fare                           8.05\n",
            "Cabin                   C23 C25 C27\n",
            "Embarked                          S\n",
            "Name: 0, dtype: object\n"
          ]
        }
      ]
    },
    {
      "cell_type": "markdown",
      "source": [
        "STANDATD DEVIATION"
      ],
      "metadata": {
        "id": "HiRSWW5Ln3ar"
      }
    },
    {
      "cell_type": "code",
      "source": [
        "std_dev_values = combined_data.std()"
      ],
      "metadata": {
        "colab": {
          "base_uri": "https://localhost:8080/"
        },
        "id": "Hlk5Hh-snonx",
        "outputId": "b1f68937-ce10-4a45-f656-4864eaf52240"
      },
      "execution_count": null,
      "outputs": [
        {
          "output_type": "stream",
          "name": "stderr",
          "text": [
            "<ipython-input-10-5f89ab3feea5>:1: FutureWarning: The default value of numeric_only in DataFrame.std is deprecated. In a future version, it will default to False. In addition, specifying 'numeric_only=None' is deprecated. Select only valid columns or specify the value of numeric_only to silence this warning.\n",
            "  std_dev_values = combined_data.std()\n"
          ]
        }
      ]
    },
    {
      "cell_type": "code",
      "source": [
        "print(std_dev_values)"
      ],
      "metadata": {
        "colab": {
          "base_uri": "https://localhost:8080/"
        },
        "id": "VmO9hXjanqu5",
        "outputId": "ad99568c-8411-4183-f752-726c53bb93d0"
      },
      "execution_count": null,
      "outputs": [
        {
          "output_type": "stream",
          "name": "stdout",
          "text": [
            "PassengerId    378.020061\n",
            "Survived         0.486592\n",
            "Pclass           0.837836\n",
            "Age             14.413493\n",
            "SibSp            1.041658\n",
            "Parch            0.865560\n",
            "Fare            51.758668\n",
            "dtype: float64\n"
          ]
        }
      ]
    },
    {
      "cell_type": "code",
      "source": [],
      "metadata": {
        "id": "-N73KN8lnsYe"
      },
      "execution_count": null,
      "outputs": []
    }
  ]
}